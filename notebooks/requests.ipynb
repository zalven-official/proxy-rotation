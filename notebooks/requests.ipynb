{
 "cells": [
  {
   "cell_type": "code",
   "execution_count": 1,
   "metadata": {},
   "outputs": [],
   "source": [
    "import os\n",
    "import sys\n",
    "\n",
    "os.chdir('..')\n",
    "\n",
    "parent_directory = os.getcwd()\n",
    "sys.path.append(parent_directory)"
   ]
  },
  {
   "cell_type": "code",
   "execution_count": 2,
   "metadata": {},
   "outputs": [],
   "source": [
    "USER_AGENTS = [\n",
    "  \"Mozilla/5.0 (Linux; Android 10; K) AppleWebKit/537.36 (KHTML, like Gecko) Chrome/121.0.0.0 Mobile Safari/537.3\",\n",
    "  \"Mozilla/5.0 (Linux; Android 13; SAMSUNG SM-A326B) AppleWebKit/537.36 (KHTML, like Gecko) SamsungBrowser/23.0 Chrome/115.0.0.0 Mobile Safari/537.3\",\n",
    "  \"Mozilla/5.0 (Linux; Android 13; SAMSUNG SM-G780G) AppleWebKit/537.36 (KHTML, like Gecko) SamsungBrowser/23.0 Chrome/115.0.0.0 Mobile Safari/537.3\",\n",
    "  \"Mozilla/5.0 (iPhone; CPU iPhone OS 17_2 like Mac OS X) AppleWebKit/605.1.15 (KHTML, like Gecko) CriOS/121.0.6167.171 Mobile/15E148 Safari/604\",\n",
    "  \"Mozilla/5.0 (Linux; Android 11; moto e20 Build/RONS31.267-94-14) AppleWebKit/537.36 (KHTML, like Gecko) Chrome/121.0.6167.178 Mobile Safari/537.3\",\n",
    "  \"Mozilla/5.0 (Linux; Android 10; K) AppleWebKit/537.36 (KHTML, like Gecko) Chrome/111.0.0.0 Mobile Safari/537.3\",\n",
    "  \"Mozilla/5.0 (iPhone; CPU iPhone OS 17_3_1 like Mac OS X) AppleWebKit/605.1.15 (KHTML, like Gecko) Version/17.3.1 Mobile/15E148 Safari/604.\",\n",
    "  \"Mozilla/5.0 (Linux; Android 12; SM-S906N Build/QP1A.190711.020; wv) AppleWebKit/537.36 (KHTML, like Gecko) Version/4.0 Chrome/80.0.3987.119 Mobile Safari/537.36\",\n",
    "  \"Mozilla/5.0 (X11; Linux x86_64) AppleWebKit/537.36 (KHTML, like Gecko) Ubuntu Chromium/37.0.2062.94 Chrome/37.0.2062.94 Safari/537.36\",\n",
    "  \"Mozilla/5.0 (Linux; Android 10; SM-G996U Build/QP1A.190711.020; wv) AppleWebKit/537.36 (KHTML, like Gecko) Version/4.0 Mobile Safari/537.36\",\n",
    "  \"Mozilla/5.0 (Windows NT 6.1; WOW64) AppleWebKit/537.36 (KHTML, like Gecko) Chrome/45.0.2454.85 Safari/537.36\",\n",
    "]\n",
    "\n",
    "PROXIES = [\n",
    "  \"207.148.71.74:80\",\n",
    "  \"69.171.76.99:8081\",\n",
    "  \"154.203.132.49:8080\",\n",
    "  \"1.162.12.227:80\",\n",
    "  \"68.178.203.69:8899\",\n",
    "  \"43.156.166.9:8899\",\n",
    "  \"212.107.28.120:80\",\n",
    "  \"47.242.47.64:8888\",\n",
    "  \"111.247.40.237:80\",\n",
    "  \"133.18.234.13:80\",\n",
    "  \"185.217.143.96:80\",\n",
    "  \"41.207.242.62:80\",\n",
    "  \"49.13.51.71:80\",\n",
    "  \"139.59.1.14:8080\",\n",
    "  \"217.182.55.226:80\",\n",
    "  \"31.11.143.83:80\",\n",
    "  \"198.49.68.80:80\",\n",
    "  \"45.92.108.112:80\",\n",
    "  \"175.139.233.76:80\",\n",
    "  \"204.199.68.201:53281\",\n",
    "  \"93.103.221.133:80\",\n",
    "  \"109.123.80.30:9480\",\n",
    "  \"51.89.14.70:80\",\n",
    "]"
   ]
  },
  {
   "cell_type": "code",
   "execution_count": 3,
   "metadata": {},
   "outputs": [
    {
     "data": {
      "text/plain": [
       "[]"
      ]
     },
     "execution_count": 3,
     "metadata": {},
     "output_type": "execute_result"
    }
   ],
   "source": [
    "# Proxy\n",
    "from src.rea_beta_backend_toolsets.services.proxies.proxy import ProxyRotation\n",
    "\n",
    "proxy_rotation_manager = ProxyRotation(PROXIES)\n",
    "proxy_rotation_manager.valid_proxies"
   ]
  },
  {
   "cell_type": "code",
   "execution_count": 4,
   "metadata": {},
   "outputs": [
    {
     "data": {
      "text/plain": [
       "['Mozilla/5.0 (Linux; Android 12; SM-S906N Build/QP1A.190711.020; wv) AppleWebKit/537.36 (KHTML, like Gecko) Version/4.0 Chrome/80.0.3987.119 Mobile Safari/537.36',\n",
       " 'Mozilla/5.0 (Linux; Android 10; K) AppleWebKit/537.36 (KHTML, like Gecko) Chrome/111.0.0.0 Mobile Safari/537.3',\n",
       " 'Mozilla/5.0 (Linux; Android 13; SAMSUNG SM-A326B) AppleWebKit/537.36 (KHTML, like Gecko) SamsungBrowser/23.0 Chrome/115.0.0.0 Mobile Safari/537.3',\n",
       " 'Mozilla/5.0 (iPhone; CPU iPhone OS 17_3_1 like Mac OS X) AppleWebKit/605.1.15 (KHTML, like Gecko) Version/17.3.1 Mobile/15E148 Safari/604.',\n",
       " 'Mozilla/5.0 (Linux; Android 10; SM-G996U Build/QP1A.190711.020; wv) AppleWebKit/537.36 (KHTML, like Gecko) Version/4.0 Mobile Safari/537.36',\n",
       " 'Mozilla/5.0 (Windows NT 6.1; WOW64) AppleWebKit/537.36 (KHTML, like Gecko) Chrome/45.0.2454.85 Safari/537.36',\n",
       " 'Mozilla/5.0 (Linux; Android 11; moto e20 Build/RONS31.267-94-14) AppleWebKit/537.36 (KHTML, like Gecko) Chrome/121.0.6167.178 Mobile Safari/537.3',\n",
       " 'Mozilla/5.0 (iPhone; CPU iPhone OS 17_2 like Mac OS X) AppleWebKit/605.1.15 (KHTML, like Gecko) CriOS/121.0.6167.171 Mobile/15E148 Safari/604',\n",
       " 'Mozilla/5.0 (Linux; Android 10; K) AppleWebKit/537.36 (KHTML, like Gecko) Chrome/121.0.0.0 Mobile Safari/537.3',\n",
       " 'Mozilla/5.0 (X11; Linux x86_64) AppleWebKit/537.36 (KHTML, like Gecko) Ubuntu Chromium/37.0.2062.94 Chrome/37.0.2062.94 Safari/537.36',\n",
       " 'Mozilla/5.0 (Linux; Android 13; SAMSUNG SM-G780G) AppleWebKit/537.36 (KHTML, like Gecko) SamsungBrowser/23.0 Chrome/115.0.0.0 Mobile Safari/537.3']"
      ]
     },
     "execution_count": 4,
     "metadata": {},
     "output_type": "execute_result"
    }
   ],
   "source": [
    "# User agents\n",
    "from src.rea_beta_backend_toolsets.services.user_agents.user_agent import UserAgentRotation\n",
    "\n",
    "user_agent_rotation_manager = UserAgentRotation(USER_AGENTS)\n",
    "user_agent_rotation_manager.valid_user_agents"
   ]
  },
  {
   "cell_type": "code",
   "execution_count": 5,
   "metadata": {},
   "outputs": [
    {
     "name": "stdout",
     "output_type": "stream",
     "text": [
      "An error occurred: No proxies available\n"
     ]
    }
   ],
   "source": [
    "import requests # type: ignore\n",
    "from requests.exceptions import RequestException\n",
    "from typing import Optional\n",
    "from requests.exceptions import RequestException\n",
    "\n",
    "def scrape(url: str, headers: Optional[dict] = None, params: Optional[dict] = None) -> Optional[requests.Response]:\n",
    "    try:\n",
    "        proxy = proxy_rotation_manager.get_next_proxy().proxy\n",
    "        \n",
    "\n",
    "        \n",
    "        user_agent = user_agent_rotation_manager.get_next_user_agent()\n",
    "        \n",
    "        if headers is None:\n",
    "            headers = {}\n",
    "        \n",
    "        headers.update({\"User-Agent\": user_agent})\n",
    "        \n",
    "        proxies = {\n",
    "            \"http\": f\"http://{proxy}\",\n",
    "            \"https\": f\"http://{proxy}\"\n",
    "        }\n",
    "        \n",
    "        response = requests.get(url, headers=headers, proxies=proxies, params=params, timeout=5)\n",
    "        \n",
    "        response.raise_for_status()\n",
    "        \n",
    "        return response\n",
    "    \n",
    "    except (RequestException, ValueError) as e:\n",
    "        print(f\"An error occurred: {e}\")\n",
    "        return None\n",
    "\n",
    "\n",
    "\n",
    "top_k = 5\n",
    "country = \"\"\n",
    "search = \"Bagyo\"\n",
    "\n",
    "base_url = \"https://www.google.com/search?q=\"\n",
    "query = f\"{search}&num={top_k}{f'&gl={country}' if country != '' else ''}\"\n",
    "url = base_url + query \n",
    "scrape(url)"
   ]
  }
 ],
 "metadata": {
  "kernelspec": {
   "display_name": ".venv",
   "language": "python",
   "name": "python3"
  },
  "language_info": {
   "codemirror_mode": {
    "name": "ipython",
    "version": 3
   },
   "file_extension": ".py",
   "mimetype": "text/x-python",
   "name": "python",
   "nbconvert_exporter": "python",
   "pygments_lexer": "ipython3",
   "version": "3.12.4"
  }
 },
 "nbformat": 4,
 "nbformat_minor": 2
}
