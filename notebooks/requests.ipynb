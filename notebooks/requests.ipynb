{
 "cells": [
  {
   "cell_type": "code",
   "execution_count": null,
   "metadata": {},
   "outputs": [],
   "source": [
    "import os\n",
    "import sys\n",
    "\n",
    "os.chdir('..')\n",
    "\n",
    "parent_directory = os.getcwd()\n",
    "sys.path.append(parent_directory)"
   ]
  },
  {
   "cell_type": "code",
   "execution_count": null,
   "metadata": {},
   "outputs": [],
   "source": [
    "from src.rea_beta_backend_toolsets.services.user_agents.user_agent import UserAgentRotationManager\n",
    "from src.rea_beta_backend_toolsets.services.proxies.proxy import ProxyRotationManager\n",
    "from typing import Optional\n",
    "import requests\n",
    "\n",
    "class RequestManager:\n",
    "    _user_agent_rotation_manager_cache = None\n",
    "    _proxy_rotation_manager_cache = None\n",
    "\n",
    "    def __init__(self, user_agents: Optional[list[str]] = [], proxies: list[str] = []):\n",
    "        if RequestManager._user_agent_rotation_manager_cache is None:\n",
    "            RequestManager._user_agent_rotation_manager_cache = UserAgentRotationManager(user_agents)\n",
    "        self.user_agent_rotation_manager = RequestManager._user_agent_rotation_manager_cache\n",
    "\n",
    "        if RequestManager._proxy_rotation_manager_cache is None:\n",
    "            RequestManager._proxy_rotation_manager_cache = ProxyRotationManager(proxies)\n",
    "        self.proxy_rotation_manager = RequestManager._proxy_rotation_manager_cache\n",
    "\n",
    "     \n",
    "        for i in self.proxy_rotation_manager.valid_proxies:\n",
    "            print(i)\n",
    "        print(\"=========\")\n",
    "        \n",
    "\n",
    "    def scrape(self, url: str, headers: Optional[dict] = None, params: Optional[dict] = None) -> Optional[requests.Response]:\n",
    "        proxy = self.proxy_rotation_manager.get_next_proxy().proxy\n",
    "        user_agent = self.user_agent_rotation_manager.get_next_user_agent()\n",
    "        if headers is None:\n",
    "            headers = {}\n",
    "        headers.update({\"User-Agent\": user_agent})\n",
    "        proxies = {\n",
    "            'http': f'http://{proxy}',\n",
    "            'https': f'http://{proxy}'\n",
    "        } \n",
    "        print(proxies)\n",
    "        response = requests.get(url, headers=headers, proxies=proxies, params=params, timeout=10)\n",
    "        response.raise_for_status()\n",
    "        return response\n",
    "\n",
    "request_manager = RequestManager(proxies=[])\n",
    "response = request_manager.scrape(\"https://example.com\")\n",
    "if response:\n",
    "    print(response.text)\n",
    "user_agent_rotation_manager = UserAgentRotationManager()"
   ]
  },
  {
   "cell_type": "code",
   "execution_count": null,
   "metadata": {},
   "outputs": [],
   "source": [
    "response = request_manager.scrape(\"https://example.com\")\n",
    "if response:\n",
    "    print(response.text)\n",
    "user_agent_rotation_manager = UserAgentRotationManager()"
   ]
  },
  {
   "cell_type": "code",
   "execution_count": null,
   "metadata": {},
   "outputs": [],
   "source": []
  }
 ],
 "metadata": {
  "kernelspec": {
   "display_name": ".venv",
   "language": "python",
   "name": "python3"
  },
  "language_info": {
   "codemirror_mode": {
    "name": "ipython",
    "version": 3
   },
   "file_extension": ".py",
   "mimetype": "text/x-python",
   "name": "python",
   "nbconvert_exporter": "python",
   "pygments_lexer": "ipython3",
   "version": "3.12.4"
  }
 },
 "nbformat": 4,
 "nbformat_minor": 2
}
