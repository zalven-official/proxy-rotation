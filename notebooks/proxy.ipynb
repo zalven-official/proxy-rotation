{
 "cells": [
  {
   "cell_type": "markdown",
   "metadata": {},
   "source": [
    "# IP Rotation\n",
    "\n",
    "## Overview\n",
    "\n",
    "This project aims to implement IP rotation for web scraping and web searching activities. The goal is to prevent the application from being banned or blocked by frequently changing IP addresses during requests.\n",
    "\n",
    "## Features\n",
    "\n",
    "- Rotate through a list of proxies to avoid IP bans.\n",
    "- Validate proxies to ensure they are working before use.\n",
    "- Shuffle proxies for random selection.\n",
    "- Retrieve the next valid proxy for making requests.\n"
   ]
  },
  {
   "cell_type": "code",
   "execution_count": 4,
   "metadata": {},
   "outputs": [],
   "source": [
    "import sys\n",
    "import os\n",
    "parent_dir = os.path.join(os.getcwd(), '..')\n",
    "if os.path.isdir(parent_dir):\n",
    "    sys.path.append(parent_dir)\n",
    "else:\n",
    "    print(f\"Warning: The parent directory {parent_dir} does not exist.\")"
   ]
  },
  {
   "cell_type": "code",
   "execution_count": 5,
   "metadata": {},
   "outputs": [
    {
     "data": {
      "text/plain": [
       "'http://ipinfo.io/json'"
      ]
     },
     "execution_count": 5,
     "metadata": {},
     "output_type": "execute_result"
    }
   ],
   "source": [
    "from src.rea_beta_backend_toolsets.services.proxies import helpers\n",
    "\n",
    "helpers.constants.PROXY_PROXY_CHECKER_URL"
   ]
  },
  {
   "cell_type": "code",
   "execution_count": null,
   "metadata": {},
   "outputs": [],
   "source": []
  },
  {
   "cell_type": "code",
   "execution_count": null,
   "metadata": {},
   "outputs": [],
   "source": []
  }
 ],
 "metadata": {
  "kernelspec": {
   "display_name": ".venv",
   "language": "python",
   "name": "python3"
  },
  "language_info": {
   "codemirror_mode": {
    "name": "ipython",
    "version": 3
   },
   "file_extension": ".py",
   "mimetype": "text/x-python",
   "name": "python",
   "nbconvert_exporter": "python",
   "pygments_lexer": "ipython3",
   "version": "3.12.4"
  }
 },
 "nbformat": 4,
 "nbformat_minor": 2
}
